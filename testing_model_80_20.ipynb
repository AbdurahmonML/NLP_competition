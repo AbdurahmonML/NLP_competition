{
  "nbformat": 4,
  "nbformat_minor": 0,
  "metadata": {
    "colab": {
      "provenance": [],
      "gpuType": "T4"
    },
    "kernelspec": {
      "name": "python3",
      "display_name": "Python 3"
    },
    "language_info": {
      "name": "python"
    },
    "accelerator": "GPU"
  },
  "cells": [
    {
      "cell_type": "code",
      "execution_count": 3,
      "metadata": {
        "colab": {
          "base_uri": "https://localhost:8080/"
        },
        "id": "B9A3bhhtXNun",
        "outputId": "c817dd60-b3ea-49db-fc1b-f9bcac32a954"
      },
      "outputs": [
        {
          "output_type": "stream",
          "name": "stderr",
          "text": [
            "/usr/local/lib/python3.10/dist-packages/transformers/tokenization_utils_base.py:1601: FutureWarning: `clean_up_tokenization_spaces` was not set. It will be set to `True` by default. This behavior will be depracted in transformers v4.45, and will be then set to `False` by default. For more details check this issue: https://github.com/huggingface/transformers/issues/31884\n",
            "  warnings.warn(\n",
            "Some weights of BertForSequenceClassification were not initialized from the model checkpoint at DeepPavlov/rubert-base-cased and are newly initialized: ['classifier.bias', 'classifier.weight']\n",
            "You should probably TRAIN this model on a down-stream task to be able to use it for predictions and inference.\n",
            "/usr/local/lib/python3.10/dist-packages/transformers/optimization.py:591: FutureWarning: This implementation of AdamW is deprecated and will be removed in a future version. Use the PyTorch implementation torch.optim.AdamW instead, or set `no_deprecation_warning=True` to disable this warning\n",
            "  warnings.warn(\n"
          ]
        },
        {
          "output_type": "stream",
          "name": "stdout",
          "text": [
            "Epoch 1/40 | Train Loss: 0.3139 | Train Accuracy: 0.0000 | Test Accuracy: 0.0000 | Time: 87.58 seconds\n",
            "Epoch 2/40 | Train Loss: 0.2847 | Train Accuracy: 0.0000 | Test Accuracy: 0.0000 | Time: 88.73 seconds\n",
            "Epoch 3/40 | Train Loss: 0.2777 | Train Accuracy: 0.0165 | Test Accuracy: 0.1319 | Time: 89.49 seconds\n",
            "Epoch 4/40 | Train Loss: 0.2699 | Train Accuracy: 0.0919 | Test Accuracy: 0.1492 | Time: 89.77 seconds\n",
            "Epoch 5/40 | Train Loss: 0.2652 | Train Accuracy: 0.1412 | Test Accuracy: 0.2854 | Time: 89.76 seconds\n",
            "Epoch 6/40 | Train Loss: 0.2593 | Train Accuracy: 0.1825 | Test Accuracy: 0.3276 | Time: 89.63 seconds\n",
            "Epoch 7/40 | Train Loss: 0.2553 | Train Accuracy: 0.2226 | Test Accuracy: 0.3438 | Time: 89.59 seconds\n",
            "Epoch 8/40 | Train Loss: 0.2509 | Train Accuracy: 0.2677 | Test Accuracy: 0.3946 | Time: 89.76 seconds\n",
            "Epoch 9/40 | Train Loss: 0.2481 | Train Accuracy: 0.2953 | Test Accuracy: 0.4292 | Time: 89.67 seconds\n",
            "Epoch 10/40 | Train Loss: 0.2449 | Train Accuracy: 0.3275 | Test Accuracy: 0.4346 | Time: 89.57 seconds\n",
            "Epoch 11/40 | Train Loss: 0.2394 | Train Accuracy: 0.3396 | Test Accuracy: 0.4292 | Time: 89.73 seconds\n",
            "Epoch 12/40 | Train Loss: 0.2400 | Train Accuracy: 0.3537 | Test Accuracy: 0.4368 | Time: 89.68 seconds\n",
            "Epoch 13/40 | Train Loss: 0.2359 | Train Accuracy: 0.3737 | Test Accuracy: 0.4595 | Time: 89.66 seconds\n",
            "Epoch 14/40 | Train Loss: 0.2343 | Train Accuracy: 0.3924 | Test Accuracy: 0.4400 | Time: 89.70 seconds\n",
            "Epoch 15/40 | Train Loss: 0.2334 | Train Accuracy: 0.3916 | Test Accuracy: 0.4757 | Time: 89.68 seconds\n",
            "Epoch 16/40 | Train Loss: 0.2301 | Train Accuracy: 0.4143 | Test Accuracy: 0.4627 | Time: 89.50 seconds\n",
            "Epoch 17/40 | Train Loss: 0.2292 | Train Accuracy: 0.4283 | Test Accuracy: 0.4714 | Time: 89.74 seconds\n",
            "Epoch 18/40 | Train Loss: 0.2285 | Train Accuracy: 0.4421 | Test Accuracy: 0.4800 | Time: 89.69 seconds\n",
            "Epoch 19/40 | Train Loss: 0.2255 | Train Accuracy: 0.4589 | Test Accuracy: 0.4951 | Time: 89.58 seconds\n",
            "Epoch 20/40 | Train Loss: 0.2273 | Train Accuracy: 0.4630 | Test Accuracy: 0.4908 | Time: 89.49 seconds\n",
            "Epoch 21/40 | Train Loss: 0.2244 | Train Accuracy: 0.4703 | Test Accuracy: 0.5016 | Time: 89.61 seconds\n",
            "Epoch 22/40 | Train Loss: 0.2250 | Train Accuracy: 0.4849 | Test Accuracy: 0.4822 | Time: 89.45 seconds\n",
            "Epoch 23/40 | Train Loss: 0.2226 | Train Accuracy: 0.4965 | Test Accuracy: 0.5038 | Time: 89.35 seconds\n",
            "Epoch 24/40 | Train Loss: 0.2243 | Train Accuracy: 0.4943 | Test Accuracy: 0.4995 | Time: 89.59 seconds\n",
            "Epoch 25/40 | Train Loss: 0.2220 | Train Accuracy: 0.4970 | Test Accuracy: 0.5092 | Time: 89.45 seconds\n",
            "Epoch 26/40 | Train Loss: 0.2224 | Train Accuracy: 0.5059 | Test Accuracy: 0.4962 | Time: 89.30 seconds\n",
            "Epoch 27/40 | Train Loss: 0.2214 | Train Accuracy: 0.5065 | Test Accuracy: 0.5027 | Time: 89.26 seconds\n",
            "Epoch 28/40 | Train Loss: 0.2190 | Train Accuracy: 0.5303 | Test Accuracy: 0.4962 | Time: 89.57 seconds\n",
            "Epoch 29/40 | Train Loss: 0.2206 | Train Accuracy: 0.5005 | Test Accuracy: 0.4984 | Time: 89.73 seconds\n",
            "Epoch 30/40 | Train Loss: 0.2184 | Train Accuracy: 0.5289 | Test Accuracy: 0.4930 | Time: 89.72 seconds\n",
            "Epoch 31/40 | Train Loss: 0.2169 | Train Accuracy: 0.5403 | Test Accuracy: 0.4854 | Time: 89.52 seconds\n",
            "Epoch 32/40 | Train Loss: 0.2164 | Train Accuracy: 0.5525 | Test Accuracy: 0.5049 | Time: 89.57 seconds\n",
            "Epoch 33/40 | Train Loss: 0.2176 | Train Accuracy: 0.5357 | Test Accuracy: 0.5070 | Time: 89.49 seconds\n",
            "Epoch 34/40 | Train Loss: 0.2166 | Train Accuracy: 0.5352 | Test Accuracy: 0.5027 | Time: 89.56 seconds\n",
            "Epoch 35/40 | Train Loss: 0.2166 | Train Accuracy: 0.5606 | Test Accuracy: 0.5200 | Time: 89.62 seconds\n",
            "Epoch 36/40 | Train Loss: 0.2155 | Train Accuracy: 0.5533 | Test Accuracy: 0.5081 | Time: 89.66 seconds\n",
            "Epoch 37/40 | Train Loss: 0.2169 | Train Accuracy: 0.5568 | Test Accuracy: 0.5254 | Time: 89.76 seconds\n",
            "Epoch 38/40 | Train Loss: 0.2157 | Train Accuracy: 0.5603 | Test Accuracy: 0.5103 | Time: 89.64 seconds\n",
            "Epoch 39/40 | Train Loss: 0.2139 | Train Accuracy: 0.5736 | Test Accuracy: 0.5157 | Time: 89.61 seconds\n",
            "Epoch 40/40 | Train Loss: 0.2145 | Train Accuracy: 0.5649 | Test Accuracy: 0.5286 | Time: 89.56 seconds\n"
          ]
        }
      ],
      "source": [
        "import pandas as pd\n",
        "import numpy as np\n",
        "import torch\n",
        "import torch.nn as nn\n",
        "from torch.utils.data import Dataset, DataLoader\n",
        "from transformers import AutoTokenizer, AutoModelForSequenceClassification, AdamW\n",
        "from sklearn.model_selection import train_test_split\n",
        "from sklearn.metrics import accuracy_score\n",
        "import time\n",
        "\n",
        "df = pd.read_csv('/content/train.csv (1).csv')\n",
        "\n",
        "texts = df['text'].tolist()\n",
        "trend_labels = df[[f'trend_id_res{i}' for i in range(50)]].values\n",
        "\n",
        "train_texts, test_texts, train_labels, test_labels = train_test_split(\n",
        "    texts, trend_labels, test_size=0.2, random_state=42)\n",
        "\n",
        "tokenizer = AutoTokenizer.from_pretrained('DeepPavlov/rubert-base-cased')\n",
        "\n",
        "class TrendDataset(Dataset):\n",
        "    def __init__(self, texts, labels, tokenizer, max_len=128):\n",
        "        self.texts = texts\n",
        "        self.labels = labels\n",
        "        self.tokenizer = tokenizer\n",
        "        self.max_len = max_len\n",
        "\n",
        "    def __len__(self):\n",
        "        return len(self.texts)\n",
        "\n",
        "    def __getitem__(self, index):\n",
        "        text = self.texts[index]\n",
        "        labels = torch.tensor(self.labels[index], dtype=torch.float)\n",
        "\n",
        "        encoding = self.tokenizer.encode_plus(\n",
        "            text,\n",
        "            truncation=True,\n",
        "            add_special_tokens=True,\n",
        "            max_length=self.max_len,\n",
        "            return_token_type_ids=False,\n",
        "            padding='max_length',\n",
        "            return_attention_mask=True,\n",
        "            return_tensors='pt',\n",
        "        )\n",
        "\n",
        "        return {\n",
        "            'input_ids': encoding['input_ids'].flatten(),\n",
        "            'attention_mask': encoding['attention_mask'].flatten(),\n",
        "            'labels': labels\n",
        "        }\n",
        "\n",
        "def create_data_loader(texts, labels, tokenizer, batch_size):\n",
        "    ds = TrendDataset(texts, labels, tokenizer)\n",
        "    return DataLoader(ds, batch_size=batch_size, shuffle=True)\n",
        "\n",
        "batch_size = 16\n",
        "train_data_loader = create_data_loader(train_texts, train_labels, tokenizer, batch_size)\n",
        "test_data_loader = create_data_loader(test_texts, test_labels, tokenizer, batch_size)\n",
        "\n",
        "class ModelWithDropout(nn.Module):\n",
        "    def __init__(self, base_model, dropout_rate=0.3):\n",
        "        super(ModelWithDropout, self).__init__()\n",
        "        self.base_model = base_model\n",
        "        self.dropout = nn.Dropout(dropout_rate)\n",
        "\n",
        "    def forward(self, input_ids, attention_mask, labels=None):\n",
        "        outputs = self.base_model(input_ids=input_ids, attention_mask=attention_mask)\n",
        "        logits = outputs.logits\n",
        "        dropped_logits = self.dropout(logits)\n",
        "\n",
        "        loss = None\n",
        "        if labels is not None:\n",
        "            loss_fn = nn.BCEWithLogitsLoss()\n",
        "            loss = loss_fn(dropped_logits, labels)\n",
        "\n",
        "        return {\"loss\": loss, \"logits\": dropped_logits}\n",
        "\n",
        "base_model = AutoModelForSequenceClassification.from_pretrained('DeepPavlov/rubert-base-cased', num_labels=50)\n",
        "\n",
        "device = torch.device(\"cuda\" if torch.cuda.is_available() else \"cpu\")\n",
        "model = ModelWithDropout(base_model, dropout_rate=0.3).to(device)\n",
        "\n",
        "optimizer = AdamW(model.parameters(), lr=1e-5, weight_decay=1.5e-2, correct_bias=False)\n",
        "\n",
        "def train_epoch(model, data_loader, optimizer, device):\n",
        "    model.train()\n",
        "    total_loss = 0\n",
        "    all_preds = []\n",
        "    all_labels = []\n",
        "\n",
        "    for batch in data_loader:\n",
        "        input_ids = batch['input_ids'].to(device)\n",
        "        attention_mask = batch['attention_mask'].to(device)\n",
        "        labels = batch['labels'].to(device)\n",
        "\n",
        "        optimizer.zero_grad()\n",
        "        outputs = model(input_ids=input_ids, attention_mask=attention_mask, labels=labels)\n",
        "\n",
        "        loss = outputs['loss']\n",
        "\n",
        "        loss.backward()\n",
        "        optimizer.step()\n",
        "\n",
        "        total_loss += loss.item()\n",
        "\n",
        "        logits = outputs['logits']\n",
        "        all_preds.extend(logits.sigmoid().detach().cpu().numpy())\n",
        "        all_labels.extend(labels.cpu().numpy())\n",
        "\n",
        "    avg_loss = total_loss / len(data_loader)\n",
        "    all_preds = (np.array(all_preds) > 0.5).astype(int)\n",
        "    accuracy = accuracy_score(np.array(all_labels), all_preds)\n",
        "\n",
        "    return avg_loss, accuracy\n",
        "\n",
        "def eval_model(model, data_loader, device):\n",
        "    model.eval()\n",
        "    all_preds = []\n",
        "    all_labels = []\n",
        "\n",
        "    with torch.no_grad():\n",
        "        for batch in data_loader:\n",
        "            input_ids = batch['input_ids'].to(device)\n",
        "            attention_mask = batch['attention_mask'].to(device)\n",
        "            labels = batch['labels'].to(device)\n",
        "            outputs = model(input_ids=input_ids, attention_mask=attention_mask)\n",
        "            logits = outputs['logits']\n",
        "\n",
        "            all_preds.extend(logits.sigmoid().detach().cpu().numpy())\n",
        "            all_labels.extend(labels.cpu().numpy())\n",
        "\n",
        "    all_preds = (np.array(all_preds) > 0.5).astype(int)\n",
        "    accuracy = accuracy_score(np.array(all_labels), all_preds)\n",
        "\n",
        "    return accuracy\n",
        "\n",
        "def train_model(model, train_loader, test_loader, optimizer, device, epochs):\n",
        "    best_accuracy = 0.0\n",
        "    for epoch in range(epochs):\n",
        "        start_time = time.time()\n",
        "\n",
        "        train_loss, train_accuracy = train_epoch(model, train_loader, optimizer, device)\n",
        "\n",
        "        test_accuracy = eval_model(model, test_loader, device)\n",
        "\n",
        "        end_time = time.time()\n",
        "        epoch_time = end_time - start_time\n",
        "\n",
        "        print(f'Epoch {epoch + 1}/{epochs} | Train Loss: {train_loss:.4f} | Train Accuracy: {train_accuracy:.4f} | Test Accuracy: {test_accuracy:.4f} | Time: {epoch_time:.2f} seconds')\n",
        "\n",
        "        if test_accuracy > best_accuracy:\n",
        "            best_accuracy = test_accuracy\n",
        "\n",
        "train_model(model, train_data_loader, test_data_loader, optimizer, device, epochs=40)\n"
      ]
    },
    {
      "cell_type": "code",
      "source": [
        "train_model(model, train_data_loader, test_data_loader, optimizer, device, epochs=10)"
      ],
      "metadata": {
        "colab": {
          "base_uri": "https://localhost:8080/"
        },
        "id": "R-CMM8bzYjtc",
        "outputId": "af4a2dd0-3d04-4276-828a-3486d6d80871"
      },
      "execution_count": 4,
      "outputs": [
        {
          "output_type": "stream",
          "name": "stdout",
          "text": [
            "Epoch 1/10 | Train Loss: 0.2135 | Train Accuracy: 0.5673 | Test Accuracy: 0.5200 | Time: 87.56 seconds\n",
            "Epoch 2/10 | Train Loss: 0.2139 | Train Accuracy: 0.5714 | Test Accuracy: 0.5286 | Time: 89.83 seconds\n",
            "Epoch 3/10 | Train Loss: 0.2136 | Train Accuracy: 0.5800 | Test Accuracy: 0.5200 | Time: 89.95 seconds\n",
            "Epoch 4/10 | Train Loss: 0.2118 | Train Accuracy: 0.5909 | Test Accuracy: 0.5351 | Time: 89.83 seconds\n",
            "Epoch 5/10 | Train Loss: 0.2124 | Train Accuracy: 0.5773 | Test Accuracy: 0.5157 | Time: 89.82 seconds\n",
            "Epoch 6/10 | Train Loss: 0.2119 | Train Accuracy: 0.5895 | Test Accuracy: 0.5211 | Time: 89.80 seconds\n",
            "Epoch 7/10 | Train Loss: 0.2106 | Train Accuracy: 0.5792 | Test Accuracy: 0.5308 | Time: 89.75 seconds\n",
            "Epoch 8/10 | Train Loss: 0.2122 | Train Accuracy: 0.6014 | Test Accuracy: 0.5276 | Time: 89.61 seconds\n",
            "Epoch 9/10 | Train Loss: 0.2118 | Train Accuracy: 0.5933 | Test Accuracy: 0.5405 | Time: 89.74 seconds\n",
            "Epoch 10/10 | Train Loss: 0.2123 | Train Accuracy: 0.5811 | Test Accuracy: 0.5286 | Time: 90.19 seconds\n"
          ]
        }
      ]
    },
    {
      "cell_type": "code",
      "source": [
        "train_model(model, train_data_loader, test_data_loader, optimizer, device, epochs=10)"
      ],
      "metadata": {
        "colab": {
          "base_uri": "https://localhost:8080/"
        },
        "id": "qm5hXahy5LYo",
        "outputId": "21b8dfbe-faaa-4474-fdaa-ef7ae8c37abd"
      },
      "execution_count": 5,
      "outputs": [
        {
          "output_type": "stream",
          "name": "stdout",
          "text": [
            "Epoch 1/10 | Train Loss: 0.2124 | Train Accuracy: 0.5982 | Test Accuracy: 0.5330 | Time: 89.83 seconds\n",
            "Epoch 2/10 | Train Loss: 0.2109 | Train Accuracy: 0.5782 | Test Accuracy: 0.5286 | Time: 89.84 seconds\n",
            "Epoch 3/10 | Train Loss: 0.2113 | Train Accuracy: 0.6044 | Test Accuracy: 0.5330 | Time: 89.90 seconds\n",
            "Epoch 4/10 | Train Loss: 0.2112 | Train Accuracy: 0.5882 | Test Accuracy: 0.5373 | Time: 89.88 seconds\n",
            "Epoch 5/10 | Train Loss: 0.2101 | Train Accuracy: 0.5884 | Test Accuracy: 0.5319 | Time: 89.91 seconds\n",
            "Epoch 6/10 | Train Loss: 0.2102 | Train Accuracy: 0.5903 | Test Accuracy: 0.5319 | Time: 89.94 seconds\n",
            "Epoch 7/10 | Train Loss: 0.2099 | Train Accuracy: 0.5887 | Test Accuracy: 0.5265 | Time: 89.87 seconds\n",
            "Epoch 8/10 | Train Loss: 0.2102 | Train Accuracy: 0.5922 | Test Accuracy: 0.5232 | Time: 89.86 seconds\n",
            "Epoch 9/10 | Train Loss: 0.2111 | Train Accuracy: 0.5919 | Test Accuracy: 0.5351 | Time: 89.89 seconds\n",
            "Epoch 10/10 | Train Loss: 0.2102 | Train Accuracy: 0.5909 | Test Accuracy: 0.5330 | Time: 89.81 seconds\n"
          ]
        }
      ]
    },
    {
      "cell_type": "code",
      "source": [
        "train_model(model, train_data_loader, test_data_loader, optimizer, device, epochs=10)"
      ],
      "metadata": {
        "colab": {
          "base_uri": "https://localhost:8080/"
        },
        "id": "0nQ_OyxP8f4c",
        "outputId": "915f6078-d66a-456d-ee0b-cae5377e0289"
      },
      "execution_count": 6,
      "outputs": [
        {
          "output_type": "stream",
          "name": "stdout",
          "text": [
            "Epoch 1/10 | Train Loss: 0.2110 | Train Accuracy: 0.6044 | Test Accuracy: 0.5416 | Time: 89.82 seconds\n",
            "Epoch 2/10 | Train Loss: 0.2104 | Train Accuracy: 0.6025 | Test Accuracy: 0.5265 | Time: 89.87 seconds\n",
            "Epoch 3/10 | Train Loss: 0.2107 | Train Accuracy: 0.5890 | Test Accuracy: 0.5286 | Time: 89.95 seconds\n",
            "Epoch 4/10 | Train Loss: 0.2102 | Train Accuracy: 0.5919 | Test Accuracy: 0.5297 | Time: 89.85 seconds\n",
            "Epoch 5/10 | Train Loss: 0.2093 | Train Accuracy: 0.5936 | Test Accuracy: 0.5384 | Time: 89.97 seconds\n",
            "Epoch 6/10 | Train Loss: 0.2099 | Train Accuracy: 0.5922 | Test Accuracy: 0.5319 | Time: 89.88 seconds\n",
            "Epoch 7/10 | Train Loss: 0.2086 | Train Accuracy: 0.6106 | Test Accuracy: 0.5265 | Time: 89.78 seconds\n",
            "Epoch 8/10 | Train Loss: 0.2090 | Train Accuracy: 0.6033 | Test Accuracy: 0.5276 | Time: 89.84 seconds\n",
            "Epoch 9/10 | Train Loss: 0.2111 | Train Accuracy: 0.5952 | Test Accuracy: 0.5211 | Time: 89.82 seconds\n",
            "Epoch 10/10 | Train Loss: 0.2100 | Train Accuracy: 0.5984 | Test Accuracy: 0.5319 | Time: 89.87 seconds\n"
          ]
        }
      ]
    },
    {
      "cell_type": "code",
      "source": [
        "import pandas as pd\n",
        "import numpy as np\n",
        "import torch\n",
        "from torch.utils.data import Dataset, DataLoader\n",
        "from transformers import AutoTokenizer\n",
        "df2 = pd.read_csv('/content/test.csv (2).csv')\n",
        "\n",
        "df2['text'] = df2['text'].fillna('')\n",
        "\n",
        "print(df2['text'].isna().sum())\n",
        "\n",
        "tokenizer = AutoTokenizer.from_pretrained('DeepPavlov/rubert-base-cased')\n",
        "\n",
        "class TestDataset(Dataset):\n",
        "    def __init__(self, texts, tokenizer, max_len=128):\n",
        "        self.texts = texts\n",
        "        self.tokenizer = tokenizer\n",
        "        self.max_len = max_len\n",
        "\n",
        "    def __len__(self):\n",
        "        return len(self.texts)\n",
        "\n",
        "    def __getitem__(self, index):\n",
        "        text = self.texts[index]\n",
        "\n",
        "        encoding = self.tokenizer.encode_plus(\n",
        "            text,\n",
        "            truncation=True,\n",
        "            add_special_tokens=True,\n",
        "            max_length=self.max_len,\n",
        "            return_token_type_ids=False,\n",
        "            padding='max_length',\n",
        "            return_attention_mask=True,\n",
        "            return_tensors='pt',\n",
        "        )\n",
        "\n",
        "        return {\n",
        "            'input_ids': encoding['input_ids'].flatten(),\n",
        "            'attention_mask': encoding['attention_mask'].flatten(),\n",
        "        }\n",
        "\n",
        "def create_test_data_loader(texts, tokenizer, batch_size=16):\n",
        "    ds = TestDataset(texts, tokenizer)\n",
        "    return DataLoader(ds, batch_size=batch_size, shuffle=False)\n",
        "\n",
        "texts_df2 = df2['text'].tolist()\n",
        "test_data_loader_df2 = create_test_data_loader(texts_df2, tokenizer)\n",
        "\n",
        "def predict(model, data_loader, device):\n",
        "    model.eval()\n",
        "    all_preds = []\n",
        "\n",
        "    with torch.no_grad():\n",
        "        for batch in data_loader:\n",
        "            input_ids = batch['input_ids'].to(device)\n",
        "            attention_mask = batch['attention_mask'].to(device)\n",
        "\n",
        "            outputs = model(input_ids=input_ids, attention_mask=attention_mask)\n",
        "            logits = outputs['logits']\n",
        "\n",
        "            preds = (torch.sigmoid(logits) > 0.5).cpu().numpy()\n",
        "            all_preds.extend(preds)\n",
        "\n",
        "    return np.array(all_preds)\n",
        "\n",
        "device = torch.device(\"cuda\" if torch.cuda.is_available() else \"cpu\")\n",
        "\n",
        "predictions_df2 = predict(model, test_data_loader_df2, device)\n",
        "\n",
        "predictions_df2_df = pd.DataFrame(predictions_df2, columns=[f'trend_id_res{i}' for i in range(50)])\n",
        "\n",
        "predictions_with_indices = []\n",
        "for pred in predictions_df2:\n",
        "    indices_of_ones = np.where(pred == 1)[0].tolist()\n",
        "    indices_as_str = ' '.join(map(str, indices_of_ones))\n",
        "    predictions_with_indices.append(indices_as_str)\n",
        "\n",
        "df2['target'] = predictions_with_indices\n",
        "\n",
        "output_df = df2[['index', 'target']]\n",
        "\n",
        "file_path = 'result.csv'\n",
        "output_df.to_csv(file_path, index=False)\n",
        "\n",
        "print(f\"DataFrame saved to {file_path}\")"
      ],
      "metadata": {
        "colab": {
          "base_uri": "https://localhost:8080/"
        },
        "id": "cplRrLu5_aeV",
        "outputId": "ae49543b-9377-4219-bef0-389497decc49"
      },
      "execution_count": 11,
      "outputs": [
        {
          "output_type": "stream",
          "name": "stdout",
          "text": [
            "0\n"
          ]
        },
        {
          "output_type": "stream",
          "name": "stderr",
          "text": [
            "/usr/local/lib/python3.10/dist-packages/transformers/tokenization_utils_base.py:1601: FutureWarning: `clean_up_tokenization_spaces` was not set. It will be set to `True` by default. This behavior will be depracted in transformers v4.45, and will be then set to `False` by default. For more details check this issue: https://github.com/huggingface/transformers/issues/31884\n",
            "  warnings.warn(\n"
          ]
        },
        {
          "output_type": "stream",
          "name": "stdout",
          "text": [
            "DataFrame saved to result.csv\n"
          ]
        }
      ]
    },
    {
      "cell_type": "code",
      "source": [],
      "metadata": {
        "id": "6wzQgYJ4EJLv"
      },
      "execution_count": null,
      "outputs": []
    }
  ]
}