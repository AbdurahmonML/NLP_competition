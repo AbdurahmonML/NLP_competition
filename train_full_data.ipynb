{
  "nbformat": 4,
  "nbformat_minor": 0,
  "metadata": {
    "colab": {
      "provenance": [],
      "gpuType": "T4"
    },
    "kernelspec": {
      "name": "python3",
      "display_name": "Python 3"
    },
    "language_info": {
      "name": "python"
    },
    "accelerator": "GPU"
  },
  "cells": [
    {
      "cell_type": "code",
      "execution_count": 3,
      "metadata": {
        "colab": {
          "base_uri": "https://localhost:8080/"
        },
        "id": "Q1J4HEfBMhNy",
        "outputId": "96338697-184d-4e8d-c603-b2aa3a494887"
      },
      "outputs": [
        {
          "output_type": "stream",
          "name": "stderr",
          "text": [
            "/usr/local/lib/python3.10/dist-packages/transformers/tokenization_utils_base.py:1601: FutureWarning: `clean_up_tokenization_spaces` was not set. It will be set to `True` by default. This behavior will be depracted in transformers v4.45, and will be then set to `False` by default. For more details check this issue: https://github.com/huggingface/transformers/issues/31884\n",
            "  warnings.warn(\n",
            "Some weights of BertForSequenceClassification were not initialized from the model checkpoint at DeepPavlov/rubert-base-cased and are newly initialized: ['classifier.bias', 'classifier.weight']\n",
            "You should probably TRAIN this model on a down-stream task to be able to use it for predictions and inference.\n",
            "/usr/local/lib/python3.10/dist-packages/transformers/optimization.py:591: FutureWarning: This implementation of AdamW is deprecated and will be removed in a future version. Use the PyTorch implementation torch.optim.AdamW instead, or set `no_deprecation_warning=True` to disable this warning\n",
            "  warnings.warn(\n"
          ]
        },
        {
          "output_type": "stream",
          "name": "stdout",
          "text": [
            "Epoch 1/10 | Train Loss: 0.3084 | Train Accuracy: 0.0000 | Test Accuracy: 0.0000 | Time: 109.25 seconds\n",
            "Epoch 2/10 | Train Loss: 0.2783 | Train Accuracy: 0.0058 | Test Accuracy: 0.0000 | Time: 108.52 seconds\n",
            "Epoch 3/10 | Train Loss: 0.2682 | Train Accuracy: 0.0981 | Test Accuracy: 0.2000 | Time: 108.34 seconds\n",
            "Epoch 4/10 | Train Loss: 0.2620 | Train Accuracy: 0.1784 | Test Accuracy: 0.4000 | Time: 108.35 seconds\n",
            "Epoch 5/10 | Train Loss: 0.2559 | Train Accuracy: 0.2369 | Test Accuracy: 0.4000 | Time: 108.28 seconds\n",
            "Epoch 6/10 | Train Loss: 0.2508 | Train Accuracy: 0.2793 | Test Accuracy: 0.4000 | Time: 108.35 seconds\n",
            "Epoch 7/10 | Train Loss: 0.2467 | Train Accuracy: 0.3116 | Test Accuracy: 0.4000 | Time: 108.25 seconds\n",
            "Epoch 8/10 | Train Loss: 0.2440 | Train Accuracy: 0.3291 | Test Accuracy: 0.4000 | Time: 108.34 seconds\n",
            "Epoch 9/10 | Train Loss: 0.2401 | Train Accuracy: 0.3579 | Test Accuracy: 0.4000 | Time: 108.38 seconds\n",
            "Epoch 10/10 | Train Loss: 0.2371 | Train Accuracy: 0.3735 | Test Accuracy: 0.4000 | Time: 108.28 seconds\n"
          ]
        }
      ],
      "source": [
        "import pandas as pd\n",
        "import numpy as np\n",
        "import torch\n",
        "import torch.nn as nn\n",
        "from torch.utils.data import Dataset, DataLoader\n",
        "from transformers import AutoTokenizer, AutoModelForSequenceClassification, AdamW\n",
        "from sklearn.model_selection import train_test_split\n",
        "from sklearn.metrics import accuracy_score\n",
        "import time\n",
        "# читаю тренировочный датасет\n",
        "df = pd.read_csv('/content/train.csv (1).csv')\n",
        "\n",
        "texts = df['text'].tolist()\n",
        "trend_labels = df[[f'trend_id_res{i}' for i in range(50)]].values\n",
        "\n",
        "train_texts, test_texts, train_labels, test_labels = train_test_split(\n",
        "    texts, trend_labels, test_size=0.001, random_state=42)\n",
        "\n",
        "tokenizer = AutoTokenizer.from_pretrained('DeepPavlov/rubert-base-cased')\n",
        "\n",
        "class TrendDataset(Dataset):\n",
        "    def __init__(self, texts, labels, tokenizer, max_len=128):\n",
        "        self.texts = texts\n",
        "        self.labels = labels\n",
        "        self.tokenizer = tokenizer\n",
        "        self.max_len = max_len\n",
        "\n",
        "    def __len__(self):\n",
        "        return len(self.texts)\n",
        "\n",
        "    def __getitem__(self, index):\n",
        "        text = self.texts[index]\n",
        "        labels = torch.tensor(self.labels[index], dtype=torch.float)\n",
        "\n",
        "        encoding = self.tokenizer.encode_plus(\n",
        "            text,\n",
        "            truncation=True,\n",
        "            add_special_tokens=True,\n",
        "            max_length=self.max_len,\n",
        "            return_token_type_ids=False,\n",
        "            padding='max_length',\n",
        "            return_attention_mask=True,\n",
        "            return_tensors='pt',\n",
        "        )\n",
        "\n",
        "        return {\n",
        "            'input_ids': encoding['input_ids'].flatten(),\n",
        "            'attention_mask': encoding['attention_mask'].flatten(),\n",
        "            'labels': labels\n",
        "        }\n",
        "\n",
        "def create_data_loader(texts, labels, tokenizer, batch_size):\n",
        "    ds = TrendDataset(texts, labels, tokenizer)\n",
        "    return DataLoader(ds, batch_size=batch_size, shuffle=True)\n",
        "\n",
        "batch_size = 16\n",
        "train_data_loader = create_data_loader(train_texts, train_labels, tokenizer, batch_size)\n",
        "test_data_loader = create_data_loader(test_texts, test_labels, tokenizer, batch_size)\n",
        "\n",
        "class ModelWithDropout(nn.Module):\n",
        "    def __init__(self, base_model, dropout_rate=0.3):  # Increased dropout rate\n",
        "        super(ModelWithDropout, self).__init__()\n",
        "        self.base_model = base_model\n",
        "        self.dropout = nn.Dropout(dropout_rate)\n",
        "\n",
        "    def forward(self, input_ids, attention_mask, labels=None):\n",
        "        outputs = self.base_model(input_ids=input_ids, attention_mask=attention_mask)\n",
        "        logits = outputs.logits\n",
        "        dropped_logits = self.dropout(logits)\n",
        "\n",
        "        loss = None\n",
        "        if labels is not None:\n",
        "            loss_fn = nn.BCEWithLogitsLoss()\n",
        "            loss = loss_fn(dropped_logits, labels)\n",
        "\n",
        "        return {\"loss\": loss, \"logits\": dropped_logits}\n",
        "\n",
        "base_model = AutoModelForSequenceClassification.from_pretrained('DeepPavlov/rubert-base-cased', num_labels=50)\n",
        "\n",
        "device = torch.device(\"cuda\" if torch.cuda.is_available() else \"cpu\")\n",
        "model = ModelWithDropout(base_model, dropout_rate=0.3).to(device)  # Increased dropout rate\n",
        "\n",
        "optimizer = AdamW(model.parameters(), lr=1e-5, weight_decay=1.5e-2, correct_bias=False)  # Adjusted learning rate\n",
        "\n",
        "def train_epoch(model, data_loader, optimizer, device):\n",
        "    model.train()\n",
        "    total_loss = 0\n",
        "    all_preds = []\n",
        "    all_labels = []\n",
        "\n",
        "    for batch in data_loader:\n",
        "        input_ids = batch['input_ids'].to(device)\n",
        "        attention_mask = batch['attention_mask'].to(device)\n",
        "        labels = batch['labels'].to(device)\n",
        "\n",
        "        optimizer.zero_grad()\n",
        "        outputs = model(input_ids=input_ids, attention_mask=attention_mask, labels=labels)\n",
        "\n",
        "        loss = outputs['loss']  # No L1 regularization\n",
        "\n",
        "        loss.backward()\n",
        "        optimizer.step()\n",
        "\n",
        "        total_loss += loss.item()\n",
        "\n",
        "        # Collect predictions and true labels for accuracy calculation\n",
        "        logits = outputs['logits']\n",
        "        all_preds.extend(logits.sigmoid().detach().cpu().numpy())  # Move logits back to CPU for evaluation\n",
        "        all_labels.extend(labels.cpu().numpy())  # Move labels back to CPU for evaluation\n",
        "\n",
        "    avg_loss = total_loss / len(data_loader)\n",
        "    all_preds = (np.array(all_preds) > 0.5).astype(int)\n",
        "    accuracy = accuracy_score(np.array(all_labels), all_preds)\n",
        "\n",
        "    return avg_loss, accuracy\n",
        "\n",
        "def eval_model(model, data_loader, device):\n",
        "    model.eval()\n",
        "    all_preds = []\n",
        "    all_labels = []\n",
        "\n",
        "    with torch.no_grad():\n",
        "        for batch in data_loader:\n",
        "            input_ids = batch['input_ids'].to(device)\n",
        "            attention_mask = batch['attention_mask'].to(device)\n",
        "            labels = batch['labels'].to(device)\n",
        "            outputs = model(input_ids=input_ids, attention_mask=attention_mask)\n",
        "            logits = outputs['logits']\n",
        "\n",
        "            all_preds.extend(logits.sigmoid().detach().cpu().numpy())\n",
        "            all_labels.extend(labels.cpu().numpy())\n",
        "\n",
        "    all_preds = (np.array(all_preds) > 0.5).astype(int)\n",
        "    accuracy = accuracy_score(np.array(all_labels), all_preds)\n",
        "\n",
        "    return accuracy\n",
        "\n",
        "def train_model(model, train_loader, test_loader, optimizer, device, epochs):\n",
        "    best_accuracy = 0.0\n",
        "    for epoch in range(epochs):\n",
        "        start_time = time.time()\n",
        "\n",
        "        train_loss, train_accuracy = train_epoch(model, train_loader, optimizer, device)\n",
        "\n",
        "        test_accuracy = eval_model(model, test_loader, device)\n",
        "\n",
        "        end_time = time.time()\n",
        "        epoch_time = end_time - start_time\n",
        "\n",
        "        print(f'Epoch {epoch + 1}/{epochs} | Train Loss: {train_loss:.4f} | Train Accuracy: {train_accuracy:.4f} | Test Accuracy: {test_accuracy:.4f} | Time: {epoch_time:.2f} seconds')\n",
        "\n",
        "        if test_accuracy > best_accuracy:\n",
        "            best_accuracy = test_accuracy\n",
        "\n",
        "train_model(model, train_data_loader, test_data_loader, optimizer, device, epochs=10)\n"
      ]
    },
    {
      "cell_type": "code",
      "source": [
        "train_model(model, train_data_loader, test_data_loader, optimizer, device, epochs=30)"
      ],
      "metadata": {
        "colab": {
          "base_uri": "https://localhost:8080/"
        },
        "id": "KECPu4deNCh1",
        "outputId": "b0541586-61d1-48ed-9601-1fb03541e2d9"
      },
      "execution_count": 4,
      "outputs": [
        {
          "output_type": "stream",
          "name": "stdout",
          "text": [
            "Epoch 1/30 | Train Loss: 0.2367 | Train Accuracy: 0.4004 | Test Accuracy: 0.4000 | Time: 109.45 seconds\n",
            "Epoch 2/30 | Train Loss: 0.2330 | Train Accuracy: 0.3974 | Test Accuracy: 0.4000 | Time: 108.73 seconds\n",
            "Epoch 3/30 | Train Loss: 0.2309 | Train Accuracy: 0.4158 | Test Accuracy: 0.4000 | Time: 108.54 seconds\n",
            "Epoch 4/30 | Train Loss: 0.2306 | Train Accuracy: 0.4214 | Test Accuracy: 0.8000 | Time: 108.47 seconds\n",
            "Epoch 5/30 | Train Loss: 0.2288 | Train Accuracy: 0.4459 | Test Accuracy: 0.6000 | Time: 108.39 seconds\n",
            "Epoch 6/30 | Train Loss: 0.2274 | Train Accuracy: 0.4554 | Test Accuracy: 0.6000 | Time: 108.50 seconds\n",
            "Epoch 7/30 | Train Loss: 0.2244 | Train Accuracy: 0.4755 | Test Accuracy: 0.6000 | Time: 108.48 seconds\n",
            "Epoch 8/30 | Train Loss: 0.2231 | Train Accuracy: 0.4879 | Test Accuracy: 0.8000 | Time: 108.52 seconds\n",
            "Epoch 9/30 | Train Loss: 0.2223 | Train Accuracy: 0.4822 | Test Accuracy: 0.6000 | Time: 108.40 seconds\n",
            "Epoch 10/30 | Train Loss: 0.2222 | Train Accuracy: 0.5026 | Test Accuracy: 0.8000 | Time: 108.50 seconds\n",
            "Epoch 11/30 | Train Loss: 0.2217 | Train Accuracy: 0.5000 | Test Accuracy: 0.8000 | Time: 108.36 seconds\n",
            "Epoch 12/30 | Train Loss: 0.2200 | Train Accuracy: 0.5121 | Test Accuracy: 0.8000 | Time: 108.43 seconds\n",
            "Epoch 13/30 | Train Loss: 0.2185 | Train Accuracy: 0.5245 | Test Accuracy: 0.8000 | Time: 108.41 seconds\n",
            "Epoch 14/30 | Train Loss: 0.2184 | Train Accuracy: 0.5318 | Test Accuracy: 0.8000 | Time: 108.45 seconds\n",
            "Epoch 15/30 | Train Loss: 0.2174 | Train Accuracy: 0.5509 | Test Accuracy: 0.6000 | Time: 108.38 seconds\n",
            "Epoch 16/30 | Train Loss: 0.2179 | Train Accuracy: 0.5407 | Test Accuracy: 0.8000 | Time: 108.26 seconds\n",
            "Epoch 17/30 | Train Loss: 0.2174 | Train Accuracy: 0.5411 | Test Accuracy: 0.6000 | Time: 108.25 seconds\n",
            "Epoch 18/30 | Train Loss: 0.2158 | Train Accuracy: 0.5587 | Test Accuracy: 0.6000 | Time: 108.39 seconds\n",
            "Epoch 19/30 | Train Loss: 0.2147 | Train Accuracy: 0.5645 | Test Accuracy: 0.6000 | Time: 108.36 seconds\n",
            "Epoch 20/30 | Train Loss: 0.2146 | Train Accuracy: 0.5676 | Test Accuracy: 0.6000 | Time: 108.35 seconds\n",
            "Epoch 21/30 | Train Loss: 0.2144 | Train Accuracy: 0.5565 | Test Accuracy: 0.8000 | Time: 108.46 seconds\n",
            "Epoch 22/30 | Train Loss: 0.2148 | Train Accuracy: 0.5743 | Test Accuracy: 0.6000 | Time: 108.45 seconds\n",
            "Epoch 23/30 | Train Loss: 0.2126 | Train Accuracy: 0.5747 | Test Accuracy: 0.6000 | Time: 108.30 seconds\n",
            "Epoch 24/30 | Train Loss: 0.2137 | Train Accuracy: 0.5667 | Test Accuracy: 0.8000 | Time: 108.27 seconds\n",
            "Epoch 25/30 | Train Loss: 0.2125 | Train Accuracy: 0.5784 | Test Accuracy: 0.6000 | Time: 108.34 seconds\n",
            "Epoch 26/30 | Train Loss: 0.2124 | Train Accuracy: 0.5933 | Test Accuracy: 0.6000 | Time: 108.43 seconds\n",
            "Epoch 27/30 | Train Loss: 0.2129 | Train Accuracy: 0.5890 | Test Accuracy: 0.6000 | Time: 108.26 seconds\n",
            "Epoch 28/30 | Train Loss: 0.2118 | Train Accuracy: 0.5901 | Test Accuracy: 0.8000 | Time: 108.35 seconds\n",
            "Epoch 29/30 | Train Loss: 0.2125 | Train Accuracy: 0.5780 | Test Accuracy: 0.6000 | Time: 108.30 seconds\n",
            "Epoch 30/30 | Train Loss: 0.2125 | Train Accuracy: 0.5799 | Test Accuracy: 0.6000 | Time: 108.36 seconds\n"
          ]
        }
      ]
    },
    {
      "cell_type": "code",
      "source": [
        "train_model(model, train_data_loader, test_data_loader, optimizer, device, epochs=15)"
      ],
      "metadata": {
        "colab": {
          "base_uri": "https://localhost:8080/"
        },
        "id": "_BCWqUxjNNZ2",
        "outputId": "9cd2c79b-1ab0-45bb-bac9-bc4e70046a2e"
      },
      "execution_count": 5,
      "outputs": [
        {
          "output_type": "stream",
          "name": "stdout",
          "text": [
            "Epoch 1/15 | Train Loss: 0.2110 | Train Accuracy: 0.5777 | Test Accuracy: 0.6000 | Time: 108.80 seconds\n",
            "Epoch 2/15 | Train Loss: 0.2116 | Train Accuracy: 0.5840 | Test Accuracy: 0.8000 | Time: 108.55 seconds\n",
            "Epoch 3/15 | Train Loss: 0.2113 | Train Accuracy: 0.5886 | Test Accuracy: 0.8000 | Time: 108.41 seconds\n",
            "Epoch 4/15 | Train Loss: 0.2112 | Train Accuracy: 0.5912 | Test Accuracy: 0.8000 | Time: 108.35 seconds\n",
            "Epoch 5/15 | Train Loss: 0.2101 | Train Accuracy: 0.5920 | Test Accuracy: 0.8000 | Time: 108.37 seconds\n",
            "Epoch 6/15 | Train Loss: 0.2107 | Train Accuracy: 0.5717 | Test Accuracy: 0.6000 | Time: 108.28 seconds\n",
            "Epoch 7/15 | Train Loss: 0.2107 | Train Accuracy: 0.6005 | Test Accuracy: 0.8000 | Time: 108.32 seconds\n",
            "Epoch 8/15 | Train Loss: 0.2109 | Train Accuracy: 0.5871 | Test Accuracy: 0.6000 | Time: 108.33 seconds\n",
            "Epoch 9/15 | Train Loss: 0.2106 | Train Accuracy: 0.5951 | Test Accuracy: 0.8000 | Time: 108.46 seconds\n",
            "Epoch 10/15 | Train Loss: 0.2110 | Train Accuracy: 0.5909 | Test Accuracy: 0.8000 | Time: 108.41 seconds\n",
            "Epoch 11/15 | Train Loss: 0.2099 | Train Accuracy: 0.5894 | Test Accuracy: 0.8000 | Time: 108.30 seconds\n",
            "Epoch 12/15 | Train Loss: 0.2104 | Train Accuracy: 0.5998 | Test Accuracy: 0.8000 | Time: 108.25 seconds\n",
            "Epoch 13/15 | Train Loss: 0.2099 | Train Accuracy: 0.5888 | Test Accuracy: 0.8000 | Time: 108.26 seconds\n",
            "Epoch 14/15 | Train Loss: 0.2092 | Train Accuracy: 0.5905 | Test Accuracy: 0.6000 | Time: 108.24 seconds\n",
            "Epoch 15/15 | Train Loss: 0.2088 | Train Accuracy: 0.5819 | Test Accuracy: 0.8000 | Time: 108.28 seconds\n"
          ]
        }
      ]
    },
    {
      "cell_type": "markdown",
      "source": [
        "# Saving model"
      ],
      "metadata": {
        "id": "sVDtkb_wGcug"
      }
    },
    {
      "cell_type": "code",
      "source": [
        "torch.save(model.state_dict(), 'model_weights.pth')"
      ],
      "metadata": {
        "id": "RW74TnufGXVA"
      },
      "execution_count": 11,
      "outputs": []
    },
    {
      "cell_type": "markdown",
      "source": [
        "#Prediction on test set:"
      ],
      "metadata": {
        "id": "5BWCkKIrGZUx"
      }
    },
    {
      "cell_type": "code",
      "source": [
        "import pandas as pd\n",
        "import numpy as np\n",
        "import torch\n",
        "from torch.utils.data import Dataset, DataLoader\n",
        "from transformers import AutoTokenizer\n",
        "#читаю тестовый файл\n",
        "df2 = pd.read_csv('/content/test.csv (2).csv')\n",
        "\n",
        "df2['text'] = df2['text'].fillna('')\n",
        "\n",
        "print(df2['text'].isna().sum())\n",
        "\n",
        "tokenizer = AutoTokenizer.from_pretrained('DeepPavlov/rubert-base-cased')\n",
        "\n",
        "class TestDataset(Dataset):\n",
        "    def __init__(self, texts, tokenizer, max_len=128):\n",
        "        self.texts = texts\n",
        "        self.tokenizer = tokenizer\n",
        "        self.max_len = max_len\n",
        "\n",
        "    def __len__(self):\n",
        "        return len(self.texts)\n",
        "\n",
        "    def __getitem__(self, index):\n",
        "        text = self.texts[index]\n",
        "\n",
        "        encoding = self.tokenizer.encode_plus(\n",
        "            text,\n",
        "            truncation=True,\n",
        "            add_special_tokens=True,\n",
        "            max_length=self.max_len,\n",
        "            return_token_type_ids=False,\n",
        "            padding='max_length',\n",
        "            return_attention_mask=True,\n",
        "            return_tensors='pt',\n",
        "        )\n",
        "\n",
        "        return {\n",
        "            'input_ids': encoding['input_ids'].flatten(),\n",
        "            'attention_mask': encoding['attention_mask'].flatten(),\n",
        "        }\n",
        "\n",
        "def create_test_data_loader(texts, tokenizer, batch_size=16):\n",
        "    ds = TestDataset(texts, tokenizer)\n",
        "    return DataLoader(ds, batch_size=batch_size, shuffle=False)\n",
        "\n",
        "texts_df2 = df2['text'].tolist()\n",
        "test_data_loader_df2 = create_test_data_loader(texts_df2, tokenizer)\n",
        "\n",
        "def predict(model, data_loader, device):\n",
        "    model.eval()\n",
        "    all_preds = []\n",
        "\n",
        "    with torch.no_grad():\n",
        "        for batch in data_loader:\n",
        "            input_ids = batch['input_ids'].to(device)\n",
        "            attention_mask = batch['attention_mask'].to(device)\n",
        "\n",
        "            outputs = model(input_ids=input_ids, attention_mask=attention_mask)\n",
        "            logits = outputs['logits']\n",
        "\n",
        "            preds = (torch.sigmoid(logits) > 0.5).cpu().numpy()\n",
        "            all_preds.extend(preds)\n",
        "\n",
        "    return np.array(all_preds)\n",
        "\n",
        "device = torch.device(\"cuda\" if torch.cuda.is_available() else \"cpu\")\n",
        "\n",
        "predictions_df2 = predict(model, test_data_loader_df2, device)\n",
        "\n",
        "predictions_df2_df = pd.DataFrame(predictions_df2, columns=[f'trend_id_res{i}' for i in range(50)])\n",
        "\n",
        "predictions_with_indices = []\n",
        "for pred in predictions_df2:\n",
        "    indices_of_ones = np.where(pred == 1)[0].tolist()\n",
        "    indices_as_str = ' '.join(map(str, indices_of_ones))\n",
        "    predictions_with_indices.append(indices_as_str)\n",
        "\n",
        "df2['target'] = predictions_with_indices\n",
        "\n",
        "output_df = df2[['index', 'target']]\n",
        "\n",
        "file_path = 'result.csv'\n",
        "output_df.to_csv(file_path, index=False)\n",
        "\n",
        "print(f\"DataFrame saved to {file_path}\")"
      ],
      "metadata": {
        "colab": {
          "base_uri": "https://localhost:8080/"
        },
        "id": "NVUT3kho_TCN",
        "outputId": "54d87aa7-3a74-4535-dd6c-3a0d560e08ee"
      },
      "execution_count": 12,
      "outputs": [
        {
          "output_type": "stream",
          "name": "stdout",
          "text": [
            "0\n"
          ]
        },
        {
          "output_type": "stream",
          "name": "stderr",
          "text": [
            "/usr/local/lib/python3.10/dist-packages/transformers/tokenization_utils_base.py:1601: FutureWarning: `clean_up_tokenization_spaces` was not set. It will be set to `True` by default. This behavior will be depracted in transformers v4.45, and will be then set to `False` by default. For more details check this issue: https://github.com/huggingface/transformers/issues/31884\n",
            "  warnings.warn(\n"
          ]
        },
        {
          "output_type": "stream",
          "name": "stdout",
          "text": [
            "DataFrame saved to result.csv\n"
          ]
        }
      ]
    },
    {
      "cell_type": "code",
      "source": [],
      "metadata": {
        "id": "-WF974TgFu2C"
      },
      "execution_count": null,
      "outputs": []
    }
  ]
}